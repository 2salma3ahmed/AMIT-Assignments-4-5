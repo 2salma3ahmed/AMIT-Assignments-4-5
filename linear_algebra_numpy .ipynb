{
  "cells": [
    {
      "cell_type": "markdown",
      "metadata": {
        "id": "beB39jaSapv7"
      },
      "source": [
        "## Write a Numpy program to compute the multiplication of two given matrixes"
      ]
    },
    {
      "cell_type": "code",
      "execution_count": 4,
      "metadata": {
        "colab": {
          "base_uri": "https://localhost:8080/"
        },
        "id": "yr6LZt25apv9",
        "outputId": "84b858b6-6c9b-4558-a821-bc927f73c829"
      },
      "outputs": [
        {
          "output_type": "stream",
          "name": "stdout",
          "text": [
            " Matrix multiplication =:\n",
            "[[35 55]\n",
            " [63 95]]\n"
          ]
        }
      ],
      "source": [
        "import numpy as np\n",
        "M1 = [[5, 5], [8, 9]]\n",
        "M2 = [[0, 4], [7, 7]]\n",
        "res = np.dot(M1, M2)\n",
        "print(\" Matrix multiplication =:\")\n",
        "print(res)\n"
      ]
    },
    {
      "cell_type": "code",
      "execution_count": null,
      "metadata": {
        "id": "IWbMU7Fzapv-"
      },
      "outputs": [],
      "source": [
        ""
      ]
    },
    {
      "cell_type": "markdown",
      "metadata": {
        "id": "EGqyg9Trapv-"
      },
      "source": [
        "## Write a NumPy program to compute the determinant of a given square array"
      ]
    },
    {
      "cell_type": "code",
      "execution_count": 16,
      "metadata": {
        "colab": {
          "base_uri": "https://localhost:8080/"
        },
        "id": "_Hw5E_nXapv-",
        "outputId": "48a5b7cb-df44-4a93-b0a8-32247cabd953"
      },
      "outputs": [
        {
          "output_type": "stream",
          "name": "stdout",
          "text": [
            "The Determinant is :\n",
            "10.000000000000002\n"
          ]
        }
      ],
      "source": [
        "import numpy as np\n",
        "from numpy import linalg \n",
        "M = np.array([[3, 4], [5, 10]])\n",
        "print(\"The Determinant is :\")\n",
        "print(np.linalg.det(M))\n"
      ]
    },
    {
      "cell_type": "code",
      "execution_count": null,
      "metadata": {
        "id": "Wu68843wapv_"
      },
      "outputs": [],
      "source": [
        ""
      ]
    },
    {
      "cell_type": "markdown",
      "metadata": {
        "id": "hnurlG3Zapv_"
      },
      "source": [
        "## Write a NumPy program to compute the cross product of two given vectors"
      ]
    },
    {
      "cell_type": "code",
      "execution_count": 17,
      "metadata": {
        "colab": {
          "base_uri": "https://localhost:8080/"
        },
        "id": "QOfMthekapv_",
        "outputId": "ee5bd0c5-2586-4035-86e1-214c3805ae29"
      },
      "outputs": [
        {
          "output_type": "stream",
          "name": "stdout",
          "text": [
            "24\n"
          ]
        }
      ],
      "source": [
        "import numpy as np\n",
        "M1= np.array([4, 6])\n",
        "M2 = np.array([0, 6])\n",
        "RES = np.cross(M1, M2)\n",
        "print(RES)"
      ]
    },
    {
      "cell_type": "code",
      "execution_count": null,
      "metadata": {
        "id": "sJNU2Hgaapv_"
      },
      "outputs": [],
      "source": [
        ""
      ]
    },
    {
      "cell_type": "markdown",
      "metadata": {
        "id": "6c3rY-X7apv_"
      },
      "source": [
        "## Write a NumPy program to compute the condition number of a given matrix\n",
        "the condition number of a function measures how much the output value of the function can change for a small change in the input argument. This is used to measure how sensitive a function is to changes or errors in the input, and how much error in the output results from an error in the input.\n",
        "\n",
        "*hint: look for something similar in the `linalg` module*"
      ]
    },
    {
      "cell_type": "code",
      "execution_count": 18,
      "metadata": {
        "colab": {
          "base_uri": "https://localhost:8080/"
        },
        "id": "7tiuqaV0apwA",
        "outputId": "ca2ed3d2-0fdc-42d7-f68b-51b6491bc777"
      },
      "outputs": [
        {
          "output_type": "stream",
          "name": "stdout",
          "text": [
            "[[8 2]\n",
            " [4 4]]\n",
            "Condition number is\n",
            "3.910976016621775\n"
          ]
        }
      ],
      "source": [
        "import numpy as np\n",
        "M = np.array([[8,2],[4,4]])\n",
        "print(M)\n",
        "RES =  np.linalg.cond(M)\n",
        "print(\"Condition number is\")\n",
        "print(RES)"
      ]
    },
    {
      "cell_type": "code",
      "execution_count": null,
      "metadata": {
        "id": "ExAiShe8apwA"
      },
      "outputs": [],
      "source": [
        ""
      ]
    },
    {
      "cell_type": "markdown",
      "metadata": {
        "id": "Jj2HEcv6apwA"
      },
      "source": [
        "## Write a NumPy program to compute the inverse of a given matrix"
      ]
    },
    {
      "cell_type": "code",
      "execution_count": 19,
      "metadata": {
        "colab": {
          "base_uri": "https://localhost:8080/"
        },
        "id": "T_dXP2RCapwA",
        "outputId": "f26cd68d-f12d-4609-c7c6-af493677b3f5"
      },
      "outputs": [
        {
          "output_type": "stream",
          "name": "stdout",
          "text": [
            " The Inverse is:\n",
            "[[-0.25  0.5 ]\n",
            " [ 0.25 -0.25]]\n"
          ]
        }
      ],
      "source": [
        "import numpy as np\n",
        "M = np.array([[4,8],[4,4]])\n",
        "RES =  np.linalg.inv(M)\n",
        "print(\" The Inverse is:\")\n",
        "print(RES)"
      ]
    },
    {
      "cell_type": "code",
      "execution_count": null,
      "metadata": {
        "id": "btMzvxP4apwA"
      },
      "outputs": [],
      "source": [
        ""
      ]
    },
    {
      "cell_type": "code",
      "execution_count": null,
      "metadata": {
        "id": "GvGommKlapwB"
      },
      "outputs": [],
      "source": [
        ""
      ]
    }
  ],
  "metadata": {
    "kernelspec": {
      "display_name": "Python 3.7.9 64-bit",
      "language": "python",
      "name": "python3"
    },
    "language_info": {
      "codemirror_mode": {
        "name": "ipython",
        "version": 3
      },
      "file_extension": ".py",
      "mimetype": "text/x-python",
      "name": "python",
      "nbconvert_exporter": "python",
      "pygments_lexer": "ipython3",
      "version": "3.7.9"
    },
    "vscode": {
      "interpreter": {
        "hash": "99887611a3b5ebbd8a07ea48bb13d66e0fa7e73358c40850c8a363e543e054a3"
      }
    },
    "colab": {
      "name": "linear algebra numpy.ipynb",
      "provenance": [],
      "collapsed_sections": []
    }
  },
  "nbformat": 4,
  "nbformat_minor": 0
}